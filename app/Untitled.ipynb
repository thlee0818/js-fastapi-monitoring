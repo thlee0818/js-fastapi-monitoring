{
 "cells": [
  {
   "cell_type": "code",
   "execution_count": 2,
   "id": "c420bb1b",
   "metadata": {},
   "outputs": [
    {
     "name": "stdout",
     "output_type": "stream",
     "text": [
      "Collecting pypmml\n",
      "  Downloading pypmml-0.9.16.tar.gz (15.0 MB)\n",
      "     ---------------------------------------- 15.0/15.0 MB 3.7 MB/s eta 0:00:00\n",
      "  Preparing metadata (setup.py): started\n",
      "  Preparing metadata (setup.py): finished with status 'done'\n",
      "Collecting py4j>=0.10.7\n",
      "  Downloading py4j-0.10.9.7-py2.py3-none-any.whl (200 kB)\n",
      "     -------------------------------------- 200.5/200.5 kB 4.0 MB/s eta 0:00:00\n",
      "Building wheels for collected packages: pypmml\n",
      "  Building wheel for pypmml (setup.py): started\n",
      "  Building wheel for pypmml (setup.py): finished with status 'done'\n",
      "  Created wheel for pypmml: filename=pypmml-0.9.16-py3-none-any.whl size=15047702 sha256=820c80d36f1451bea4563e0924b47b0e54fbf4a6e68688f85ff4d736b56ebe4c\n",
      "  Stored in directory: c:\\users\\ictuser\\appdata\\local\\pip\\cache\\wheels\\c1\\5e\\c9\\cdc8779f5f2181197102b6cba3fd4ff43fee0273c7b7a68ade\n",
      "Successfully built pypmml\n",
      "Installing collected packages: py4j, pypmml\n",
      "Successfully installed py4j-0.10.9.7 pypmml-0.9.16\n",
      "\n",
      "[notice] A new release of pip available: 22.1.2 -> 22.2.2\n",
      "[notice] To update, run: python.exe -m pip install --upgrade pip\n"
     ]
    }
   ],
   "source": [
    "!pip install pypmml"
   ]
  },
  {
   "cell_type": "code",
   "execution_count": 3,
   "id": "3ca81203",
   "metadata": {},
   "outputs": [],
   "source": [
    "from pypmml import Model"
   ]
  },
  {
   "cell_type": "code",
   "execution_count": 4,
   "id": "74b00ab6",
   "metadata": {},
   "outputs": [],
   "source": [
    "model  = Model.load(\"../DecisionTreeIris.pmml\")"
   ]
  },
  {
   "cell_type": "code",
   "execution_count": 6,
   "id": "26837a78",
   "metadata": {},
   "outputs": [],
   "source": [
    "model2  = Model.fromFile(\"../DecisionTreeIris.pmml\")"
   ]
  },
  {
   "cell_type": "code",
   "execution_count": 8,
   "id": "73c48db9",
   "metadata": {},
   "outputs": [
    {
     "data": {
      "text/plain": [
       "'4.4'"
      ]
     },
     "execution_count": 8,
     "metadata": {},
     "output_type": "execute_result"
    }
   ],
   "source": [
    "model2.version"
   ]
  },
  {
   "cell_type": "code",
   "execution_count": null,
   "id": "291853b3",
   "metadata": {},
   "outputs": [],
   "source": []
  }
 ],
 "metadata": {
  "kernelspec": {
   "display_name": "py39",
   "language": "python",
   "name": "py39"
  },
  "language_info": {
   "codemirror_mode": {
    "name": "ipython",
    "version": 3
   },
   "file_extension": ".py",
   "mimetype": "text/x-python",
   "name": "python",
   "nbconvert_exporter": "python",
   "pygments_lexer": "ipython3",
   "version": "3.9.7"
  },
  "toc": {
   "base_numbering": 1,
   "nav_menu": {},
   "number_sections": true,
   "sideBar": true,
   "skip_h1_title": false,
   "title_cell": "Table of Contents",
   "title_sidebar": "Contents",
   "toc_cell": false,
   "toc_position": {},
   "toc_section_display": true,
   "toc_window_display": false
  },
  "varInspector": {
   "cols": {
    "lenName": 16,
    "lenType": 16,
    "lenVar": 40
   },
   "kernels_config": {
    "python": {
     "delete_cmd_postfix": "",
     "delete_cmd_prefix": "del ",
     "library": "var_list.py",
     "varRefreshCmd": "print(var_dic_list())"
    },
    "r": {
     "delete_cmd_postfix": ") ",
     "delete_cmd_prefix": "rm(",
     "library": "var_list.r",
     "varRefreshCmd": "cat(var_dic_list()) "
    }
   },
   "types_to_exclude": [
    "module",
    "function",
    "builtin_function_or_method",
    "instance",
    "_Feature"
   ],
   "window_display": false
  }
 },
 "nbformat": 4,
 "nbformat_minor": 5
}
